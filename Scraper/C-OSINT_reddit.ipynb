{
 "cells": [
  {
   "cell_type": "code",
   "execution_count": null,
   "metadata": {},
   "outputs": [],
   "source": [
    "# Load necessary libraries\n",
    "import praw\n",
    "from praw.models import MoreComments\n",
    "import pandas as pd\n",
    "import PIL\n",
    "import numpy as np\n",
    "from datetime import datetime\n",
    "from praw.models import MoreComments\n",
    "import praw\n",
    "\n",
    "client_id = \"ID\"\n",
    "client_secret = \"KEY\"\n",
    "bot_username = \"Name\"\n",
    "\n",
    "\n",
    "reddit = praw.Reddit(client_id=client_id,client_secret=client_secret,user_agent=bot_username)"
   ]
  },
  {
   "cell_type": "code",
   "execution_count": null,
   "metadata": {},
   "outputs": [],
   "source": [
    "## Scrape the DataScience subreddit\n",
    "posts_hot = []\n",
    "posts_top = []\n",
    "ds_subreddit = reddit.subreddit('COVID19')\n",
    "#ds_subreddit = reddit.subreddit('MachineLearning')\n",
    "\n",
    "\n",
    "# Obtain the top 50 hot posts\n",
    "for post in ds_subreddit.hot(limit=200):\n",
    "    # convert timestamp to datetime\n",
    "    posts_hot.append([post.title, post.score, post.id, post.subreddit, post.url, post.num_comments, post.selftext, datetime.fromtimestamp(post.created)])\n",
    "posts_hot = pd.DataFrame(posts_hot,columns=['title', 'score', 'id', 'subreddit', 'url', 'num_comments', 'body', 'created'])\n",
    "\n",
    "# Obtain the top 50 top posts\n",
    "for post in ds_subreddit.top(limit=200):\n",
    "    # convert timestamp to datetime\n",
    "    posts_top.append([post.title, post.score, post.id, post.subreddit, post.url, post.num_comments, post.selftext, datetime.fromtimestamp(post.created)])\n",
    "posts_top = pd.DataFrame(posts_top,columns=['title', 'score', 'id', 'subreddit', 'url', 'num_comments', 'body', 'created'])\n"
   ]
  },
  {
   "cell_type": "code",
   "execution_count": null,
   "metadata": {
    "scrolled": true
   },
   "outputs": [],
   "source": [
    "posts_hot.sort_values(by = 'score', ascending = False)\n",
    "posts_top.sort_values(by = 'score', ascending = False)\n",
    "posts_ds = pd.concat([posts_top, posts_hot], axis=0).drop_duplicates(subset = 'id').reset_index(drop = True)\n",
    "posts_ds.sort_values(by = 'score', ascending = False).reset_index(drop = True).head()"
   ]
  },
  {
   "cell_type": "code",
   "execution_count": null,
   "metadata": {},
   "outputs": [],
   "source": [
    "len(posts_ds)"
   ]
  },
  {
   "cell_type": "code",
   "execution_count": null,
   "metadata": {},
   "outputs": [],
   "source": [
    "ID = 'ID'\n",
    "day = ''\n",
    "\n",
    "submission = reddit.submission(id=ID)\n",
    "\n",
    "title = submission.title\n",
    "id_post = submission.author.name"
   ]
  },
  {
   "cell_type": "code",
   "execution_count": null,
   "metadata": {},
   "outputs": [],
   "source": [
    "print(id_post)"
   ]
  },
  {
   "cell_type": "code",
   "execution_count": null,
   "metadata": {},
   "outputs": [],
   "source": [
    "# Store the comments in a dictionary for the subreddit CHANGE the representation to df\n",
    "\n",
    "users_comments = {}\n",
    "users_comments['User'] = []\n",
    "users_comments['Comment'] = []\n",
    "users_comments['Id_post'] = []\n",
    "users_comments['Text_post'] = []\n",
    "users_comments['id'] = []\n",
    "\n",
    "\n",
    "# Get the id of the post\n",
    "keys = [ID]\n",
    "for key in keys:\n",
    "    submission = reddit.submission(id=key)\n",
    "    submission.comments.replace_more(limit=None, threshold=0)\n",
    "    \n",
    "    for top_level_comment in submission.comments.list():\n",
    "        try:\n",
    "            #dict_comments[key].append(top_level_comment.body)\n",
    "            users_comments['User'].append(top_level_comment.author)\n",
    "            users_comments['Comment'].append(top_level_comment.body)\n",
    "            users_comments['Text_post'].append(title)\n",
    "            users_comments['Id_post'].append(id_post)\n",
    "            users_comments['id'].append(ID)\n",
    "        except KeyError:\n",
    "            print('Error')"
   ]
  },
  {
   "cell_type": "code",
   "execution_count": null,
   "metadata": {},
   "outputs": [],
   "source": [
    "df = pd.DataFrame([])\n",
    "\n",
    "df['user'] = users_comments['User']\n",
    "df['comment'] = users_comments['Comment']\n",
    "df['id_post'] = users_comments['Id_post']\n",
    "df['text_post'] = users_comments['Text_post']\n",
    "df['id'] = users_comments['id']\n",
    " \n",
    "df.head()"
   ]
  },
  {
   "cell_type": "code",
   "execution_count": null,
   "metadata": {},
   "outputs": [],
   "source": [
    "data = day+'1-3-22'\n",
    "len_df =len(df)\n",
    "date = [ data for x in range(len_df)]\n",
    "df['date'] = date\n",
    "\n",
    "df.to_csv('./post_'+ID+'.csv', index=False)"
   ]
  },
  {
   "cell_type": "code",
   "execution_count": null,
   "metadata": {},
   "outputs": [],
   "source": [
    "len(df)"
   ]
  },
  {
   "cell_type": "code",
   "execution_count": null,
   "metadata": {},
   "outputs": [],
   "source": [
    "file1 = 'post_t00csz.csv'\n",
    "file2 = 'post_n7zmc3.csv'\n",
    "file3 = 'post_sy2ru4.csv'\n",
    "file4 = 'post_t3d3u2.csv'\n"
   ]
  },
  {
   "cell_type": "code",
   "execution_count": null,
   "metadata": {},
   "outputs": [],
   "source": [
    "df1 = pd.read_csv(file1)\n",
    "df2 = pd.read_csv(file2)\n",
    "df3 = pd.read_csv(file3)\n",
    "df4 = pd.read_csv(file4)"
   ]
  },
  {
   "cell_type": "code",
   "execution_count": null,
   "metadata": {},
   "outputs": [],
   "source": [
    "df_tot = pd.concat([df1,df2,df3,df4], ignore_index=True)\n",
    "\n",
    "\n",
    "df_tot.head()"
   ]
  },
  {
   "cell_type": "code",
   "execution_count": null,
   "metadata": {},
   "outputs": [],
   "source": [
    "len(df_tot)"
   ]
  },
  {
   "cell_type": "code",
   "execution_count": null,
   "metadata": {},
   "outputs": [],
   "source": [
    "df_tot.head()"
   ]
  },
  {
   "cell_type": "code",
   "execution_count": null,
   "metadata": {},
   "outputs": [],
   "source": [
    "df_tot.to_csv('post.csv',index=False)"
   ]
  }
 ],
 "metadata": {
  "kernelspec": {
   "display_name": "Python 3",
   "language": "python",
   "name": "python3"
  },
  "language_info": {
   "codemirror_mode": {
    "name": "ipython",
    "version": 3
   },
   "file_extension": ".py",
   "mimetype": "text/x-python",
   "name": "python",
   "nbconvert_exporter": "python",
   "pygments_lexer": "ipython3",
   "version": "3.6.10"
  }
 },
 "nbformat": 4,
 "nbformat_minor": 2
}
