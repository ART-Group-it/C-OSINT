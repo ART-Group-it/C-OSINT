{
 "cells": [
  {
   "cell_type": "markdown",
   "metadata": {},
   "source": [
    "# HTML Cleaning"
   ]
  },
  {
   "cell_type": "code",
   "execution_count": null,
   "metadata": {},
   "outputs": [],
   "source": [
    "from bs4 import BeautifulSoup\n",
    "import re\n",
    "\n",
    "def pulisci_html(testo):\n",
    "    \n",
    "    soup = BeautifulSoup(testo)\n",
    "    testo = soup.text\n",
    "    testo = testo.split('\\n')\n",
    "    return testo"
   ]
  },
  {
   "cell_type": "code",
   "execution_count": null,
   "metadata": {},
   "outputs": [],
   "source": [
    "f = open('page.txt', \"r\", encoding = 'utf-8')\n",
    "testo = f.read()\n",
    "f.close()\n",
    "\n",
    "testo_html = pulisci_html(testo)\n",
    "\n",
    "print(testo_html)\n"
   ]
  },
  {
   "cell_type": "code",
   "execution_count": null,
   "metadata": {},
   "outputs": [],
   "source": [
    "DELETE_ROW_PATTERNS = (r'View the latest post [a-zA-Z0-9,: ]* [ap]m', r'(asked|edited) \\d* \\w* ago in \\d*', r'\\d{6,}',\n",
    "                       r'PGP SIGNATURE', 'Home', 'Contact', 'About')\n",
    "DELETE_PATTERN1 = (\n",
    "    r'\\b(?:(?:https?|ftp|file):/+)+\\S*', r'\\b(?:(?:https?|ftp|file):\\b/)+\\S*',  # remove urls\n",
    "    r'\\b(?:(\\.jpg|\\.png|\\.JPG|\\.PNG|\\.html))',  # remove pictures/html\n",
    "    r'\\b(d=|fbid=)+\\S*', r'\\(\\d+ points\\)',\n",
    ")\n",
    "DELETE_WORD1 = ('xcxbb', 'xexac', 'xex', 'xbb', 'xac', '//', '[', ']', '*', '#', '\\\\', '(BUTTON)')\n",
    "DELETE_PATTERN_IGNORECASE = (\n",
    "    r\"\\b(buy now|(add )?to cart|comments feed)\\b\",\n",
    ")\n",
    "DELETE_PATTERN2 = (\n",
    "    r'1_ X\\b', r'javascript:\\S*', r'BUTTON\\s*(Input)?\\s*(\\(not)?\\s*(implemented\\))?',\n",
    ")\n",
    "DELETE_WORD2 = (\n",
    "    '_', '13abJg9Rc2uRgWN7NLRmeM5Q1jkh7wfcMh', 'c607a2f21680e3777808d3f320e551ab', '~', '+', 'xb1ol', '0 item(s)',\n",
    ")\n",
    "DELETE_PATTERN3 = (\n",
    "    r'Powered by+\\S*', r'\\b(?:(\\.onion))', r'File:+\\S*', r'\\./ucp+S*',\n",
    ")\n",
    "\n",
    "DELETE_POR = ('Escrow', 'ciao')\n",
    "\n",
    "def correct_spaces(strings):\n",
    "    output = []\n",
    "    strings = strings.split(' ')\n",
    "    for el in strings:\n",
    "        if el.isupper():\n",
    "            output.append(el)\n",
    "        else:\n",
    "            el = re.findall('[A-Z][^A-Z]*', el)\n",
    "            output.append(' '.join(el))\n",
    "        \n",
    "    #strings = re.findall('[A-Z][^A-Z]*', strings)\n",
    "    #strings = re.sub( r\"([A-Z])\", r\" \\1\", strings).split()\n",
    "    \n",
    "    s = ' '.join(output)\n",
    "    \n",
    "    return s\n",
    "    \n",
    "\n",
    "def clean(text):\n",
    "    for pattern in DELETE_ROW_PATTERNS:\n",
    "        if re.search(pattern, text):\n",
    "            return \"\"\n",
    "    # remove non-ascii characters\n",
    "    # text = ''.join(char for char in text if ord(char) < 128)\n",
    "    #for pattern in DELETE_PATTERN1:\n",
    "    #    text = re.sub(pattern, ' ', text)\n",
    "    for word in DELETE_WORD1:\n",
    "        text = text.replace(word, ' ')\n",
    "    for pattern in DELETE_PATTERN_IGNORECASE:\n",
    "        text = re.sub(pattern, ' ', text, flags=re.IGNORECASE)\n",
    "    for pattern in DELETE_PATTERN2:\n",
    "        text = re.sub(pattern, ' ', text)\n",
    "    for word in DELETE_WORD2:\n",
    "        text = text.replace(word, ' ')\n",
    "    for pattern in DELETE_PATTERN3:\n",
    "        text = re.sub(pattern, ' ', text)\n",
    "    #for pattern in DELETE_POR:\n",
    "    #    text = re.sub(pattern, ' ', text)\n",
    "        \n",
    "    #text = correct_spaces(text)\n",
    "\n",
    "    # remove consecutive spaces\n",
    "    text = re.sub(r'[\\s=]+', ' ', text)\n",
    "    text = re.sub(r'--+', '--', text)\n",
    "    text = re.sub(r'(\\.\\s*\\.)+', '..', text)\n",
    "    \n",
    "    text = text.replace('U S A','USA').replace('Pay Pal','PayPal').replace('P I N', 'PIN').replace(' C V V','CVV').replace(' C C','CC').replace('D Do S','DDoS').replace('A E S','AES').replace('S S L','SSL').replace('S Q L','SQL').replace('I P','IP').replace(' C P ',' CP ').replace('C F N M ','CFNM ').replace('V I S A','VISA').replace('A T M','ATM')\n",
    "    \n",
    "    return text.strip()\n",
    "\n"
   ]
  }
 ],
 "metadata": {
  "kernelspec": {
   "display_name": "Python 3",
   "language": "python",
   "name": "python3"
  },
  "language_info": {
   "codemirror_mode": {
    "name": "ipython",
    "version": 3
   },
   "file_extension": ".py",
   "mimetype": "text/x-python",
   "name": "python",
   "nbconvert_exporter": "python",
   "pygments_lexer": "ipython3",
   "version": "3.6.10"
  }
 },
 "nbformat": 4,
 "nbformat_minor": 2
}
