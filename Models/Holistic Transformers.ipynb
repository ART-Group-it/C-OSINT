{
 "cells": [
  {
   "cell_type": "code",
   "execution_count": 1,
   "metadata": {},
   "outputs": [],
   "source": [
    "import transformers\n",
    "from keras.preprocessing.sequence import pad_sequences\n",
    "from sklearn.model_selection import train_test_split\n",
    "from transformers import AutoTokenizer, AutoModel,BertTokenizer, BertModel,GPT2Tokenizer, GPT2Model"
   ]
  },
  {
   "cell_type": "code",
   "execution_count": 2,
   "metadata": {},
   "outputs": [],
   "source": [
    "from torch import optim\n",
    "from torch import nn\n",
    "import torch.nn.functional as F\n",
    "import torch\n",
    "from torch.utils.data import TensorDataset, DataLoader, RandomSampler, SequentialSampler"
   ]
  },
  {
   "cell_type": "code",
   "execution_count": 3,
   "metadata": {},
   "outputs": [],
   "source": [
    "import pandas as pd\n",
    "import re\n",
    "import matplotlib.pyplot as plt\n",
    "from tqdm import tqdm, trange\n",
    "import numpy as np\n",
    "import pickle"
   ]
  },
  {
   "cell_type": "code",
   "execution_count": 4,
   "metadata": {},
   "outputs": [],
   "source": [
    "import seaborn as sn\n",
    "from sklearn.metrics import accuracy_score, f1_score\n",
    "import math"
   ]
  },
  {
   "cell_type": "code",
   "execution_count": 5,
   "metadata": {},
   "outputs": [
    {
     "data": {
      "text/plain": [
       "<torch.cuda.device at 0x7fdc44f24ba8>"
      ]
     },
     "execution_count": 5,
     "metadata": {},
     "output_type": "execute_result"
    }
   ],
   "source": [
    "torch.cuda.device(1)"
   ]
  },
  {
   "cell_type": "markdown",
   "metadata": {},
   "source": [
    "**Funzione che spacchetta gli alberi**"
   ]
  },
  {
   "cell_type": "markdown",
   "metadata": {},
   "source": [
    "# Importiamo il dataset e gli alberi"
   ]
  },
  {
   "cell_type": "code",
   "execution_count": 7,
   "metadata": {},
   "outputs": [
    {
     "data": {
      "text/html": [
       "<div>\n",
       "<style scoped>\n",
       "    .dataframe tbody tr th:only-of-type {\n",
       "        vertical-align: middle;\n",
       "    }\n",
       "\n",
       "    .dataframe tbody tr th {\n",
       "        vertical-align: top;\n",
       "    }\n",
       "\n",
       "    .dataframe thead th {\n",
       "        text-align: right;\n",
       "    }\n",
       "</style>\n",
       "<table border=\"1\" class=\"dataframe\">\n",
       "  <thead>\n",
       "    <tr style=\"text-align: right;\">\n",
       "      <th></th>\n",
       "      <th>text</th>\n",
       "      <th>target</th>\n",
       "    </tr>\n",
       "  </thead>\n",
       "  <tbody>\n",
       "    <tr>\n",
       "      <th>0</th>\n",
       "      <td>Testosteron P New Testosteron P Tesla\\n</td>\n",
       "      <td>onion_drugs_legal</td>\n",
       "    </tr>\n",
       "    <tr>\n",
       "      <th>1</th>\n",
       "      <td>Testosterone P 100 New Testosterone P 100 Olym...</td>\n",
       "      <td>onion_drugs_legal</td>\n",
       "    </tr>\n",
       "    <tr>\n",
       "      <th>2</th>\n",
       "      <td>Methan-D New Methan-D Olymp Labs\\n</td>\n",
       "      <td>onion_drugs_legal</td>\n",
       "    </tr>\n",
       "    <tr>\n",
       "      <th>3</th>\n",
       "      <td>Stanazolol New Stanazolol Olymp Labs\\n</td>\n",
       "      <td>onion_drugs_legal</td>\n",
       "    </tr>\n",
       "    <tr>\n",
       "      <th>4</th>\n",
       "      <td>Stanozolol 50 New Stanozolol 50 Olymp Labs\\n</td>\n",
       "      <td>onion_drugs_legal</td>\n",
       "    </tr>\n",
       "  </tbody>\n",
       "</table>\n",
       "</div>"
      ],
      "text/plain": [
       "                                                text             target\n",
       "0            Testosteron P New Testosteron P Tesla\\n  onion_drugs_legal\n",
       "1  Testosterone P 100 New Testosterone P 100 Olym...  onion_drugs_legal\n",
       "2                 Methan-D New Methan-D Olymp Labs\\n  onion_drugs_legal\n",
       "3             Stanazolol New Stanazolol Olymp Labs\\n  onion_drugs_legal\n",
       "4       Stanozolol 50 New Stanozolol 50 Olymp Labs\\n  onion_drugs_legal"
      ]
     },
     "execution_count": 7,
     "metadata": {},
     "output_type": "execute_result"
    }
   ],
   "source": [
    "df_train = pd.read_csv('data_train.csv')\n",
    "df_test = pd.read_csv('data_test.csv')\n",
    "\n",
    "df_train.head()"
   ]
  },
  {
   "cell_type": "code",
   "execution_count": 8,
   "metadata": {},
   "outputs": [],
   "source": [
    "sentences = df_train.text.values\n",
    "\n",
    "target_clean_train = []\n",
    "for x in df_train.target:\n",
    "    if x == 'Market':\n",
    "        target_clean_train.append(0)\n",
    "    if x == 'Forum'':\n",
    "        target_clean_train.append(1)\n",
    "        \n",
    "labels = np.array(target_clean_train)\n"
   ]
  },
  {
   "cell_type": "code",
   "execution_count": 9,
   "metadata": {},
   "outputs": [],
   "source": [
    "\n",
    "\n",
    "sentences_test = df_test.text.values\n",
    "\n",
    "\n",
    "target_clean_test = []\n",
    "for x in df_test.target:\n",
    "    if x == 'Market':\n",
    "        target_clean_train.append(0)\n",
    "    if x == 'Forum'':\n",
    "        target_clean_train.append(1)\n",
    "        \n",
    "labels_test = np.array(target_clean_test)\n"
   ]
  },
  {
   "cell_type": "code",
   "execution_count": 10,
   "metadata": {},
   "outputs": [
    {
     "data": {
      "text/plain": [
       "183"
      ]
     },
     "execution_count": 10,
     "metadata": {},
     "output_type": "execute_result"
    }
   ],
   "source": [
    "len(labels_test)"
   ]
  },
  {
   "cell_type": "code",
   "execution_count": 11,
   "metadata": {},
   "outputs": [
    {
     "name": "stdout",
     "output_type": "stream",
     "text": [
      "[0 1] [571 571]\n"
     ]
    }
   ],
   "source": [
    "\n",
    "unique, counts = np.unique(labels, return_counts = True)\n",
    "\n",
    "print(unique, counts)"
   ]
  },
  {
   "cell_type": "markdown",
   "metadata": {},
   "source": [
    "**Funzioni utili per il calcolo statistico**"
   ]
  },
  {
   "cell_type": "code",
   "execution_count": 12,
   "metadata": {},
   "outputs": [],
   "source": [
    "def calculate_mean(number_list):\n",
    "    sum = 0\n",
    "    for number in number_list:\n",
    "        sum += number\n",
    "\n",
    "    return sum/len(number_list)\n",
    "\n",
    "def calculate_standard_deviation(number_list):\n",
    "    mean = calculate_mean(number_list)\n",
    "    summatory = 0\n",
    "    for number in number_list:\n",
    "        summatory += pow((number - mean),2)\n",
    "\n",
    "    summatory = summatory/len(number_list)\n",
    "\n",
    "    return math.sqrt(summatory)"
   ]
  },
  {
   "cell_type": "code",
   "execution_count": 13,
   "metadata": {},
   "outputs": [],
   "source": [
    "def flat_accuracy(preds, labels):\n",
    "    pred_flat = np.argmax(preds, axis=1).flatten()\n",
    "    labels_flat = labels.flatten()\n",
    "    acc = np.sum(pred_flat == labels_flat) / len(labels_flat)\n",
    "    return acc"
   ]
  },
  {
   "cell_type": "code",
   "execution_count": 14,
   "metadata": {},
   "outputs": [],
   "source": [
    "def define_input(seed, random_state, sentences, model_type, epochs):\n",
    "    \n",
    "    device = torch.device(\"cuda\" if torch.cuda.is_available() else \"cpu\")\n",
    "    if torch.cuda.is_available(): torch.cuda.manual_seed_all(seed)\n",
    "        \n",
    "    global tokenizer\n",
    "    global model_architecture\n",
    "        \n",
    "    sentences = [\"[CLS] \" + sentence + \" [SEP]\" for sentence in sentences]\n",
    "    \n",
    "    if model_type == 'Bert':\n",
    "        tokenizer = AutoTokenizer.from_pretrained(\"bert-base-uncased\", do_lower_case=True)\n",
    "        model_architecture = AutoTokenizer.from_pretrained('bert-base-uncased').to(\"cuda\" if torch.cuda.is_available() else \"cpu\")\n",
    "\n",
    "    if model_type == 'Electra':\n",
    "        tokenizer = AutoTokenizer.from_pretrained(\"google/electra-base-discriminator\")\n",
    "        model_architecture = AutoModel.from_pretrained(\"google/electra-base-discriminator\").to(\"cuda\" if torch.cuda.is_available() else \"cpu\")\n",
    "                \n",
    "    if model_type == 'XLNet':\n",
    "        tokenizer = AutoTokenizer.from_pretrained(\"xlnet-base-cased\")\n",
    "        model_architecture = AutoModel.from_pretrained(\"xlnet-base-cased\").to(\"cuda\" if torch.cuda.is_available() else \"cpu\")\n",
    "\n",
    "    if model_type == 'Multilingua-Bert':\n",
    "        tokenizer = BertTokenizer.from_pretrained('bert-base-multilingual-uncased')\n",
    "        model_architecture = BertModel.from_pretrained(\"bert-base-multilingual-uncased\").to(\"cuda\" if torch.cuda.is_available() else \"cpu\")\n",
    "\n",
    "    if model_type == 'Ernie':\n",
    "        tokenizer = AutoTokenizer.from_pretrained(\"nghuyong/ernie-2.0-en\")\n",
    "        model_architecture = AutoModel.from_pretrained(\"nghuyong/ernie-2.0-en\").to(\"cuda\" if torch.cuda.is_available() else \"cpu\")\n",
    "\n",
    "    if model_type == 'Roberta':\n",
    "        tokenizer = AutoTokenizer.from_pretrained(\"roberta-base\")\n",
    "        model_architecture = AutoModel.from_pretrained(\"roberta-base\").to(\"cuda\" if torch.cuda.is_available() else \"cpu\")\n",
    "    \n",
    "    if model_type == 'distilbert':\n",
    "        tokenizer = AutoTokenizer.from_pretrained(\"distilbert-base-uncased\")\n",
    "        model_architecture = AutoModel.from_pretrained(\"distilbert-base-uncased\").to(\"cuda\" if torch.cuda.is_available() else \"cpu\")\n",
    "        \n",
    "    \n",
    "    \n",
    "    tokenized_texts = [tokenizer.tokenize(sent) for sent in sentences]\n",
    "    \n",
    "    MAX_LEN = 128\n",
    "    input_ids = pad_sequences([tokenizer.convert_tokens_to_ids(txt) for txt in tokenized_texts],\n",
    "                          maxlen=MAX_LEN, dtype=\"long\", truncating=\"post\", padding=\"post\")\n",
    "    \n",
    "    attention_masks = []\n",
    "\n",
    "    for seq in input_ids:\n",
    "        seq_mask = [float(i>0) for i in seq]\n",
    "        attention_masks.append(seq_mask)\n",
    "        \n",
    "    X_inputs, test_inputs, X_labels, test_labels = train_test_split(input_ids, labels, random_state=random_state, test_size=0.1)\n",
    "    X_masks, test_masks, _, _ = train_test_split(attention_masks, input_ids, random_state=random_state, test_size=0.1)\n",
    "\n",
    "    train_inputs, validation_inputs, train_labels, validation_labels = train_test_split(X_inputs, X_labels, random_state=random_state, test_size=0.1)\n",
    "    train_masks, validation_masks, _, _ = train_test_split(X_masks, X_inputs, random_state=random_state, test_size=0.1)\n",
    "\n",
    "    train_inputs = torch.tensor(train_inputs)\n",
    "    train_labels = torch.tensor(train_labels)\n",
    "    train_masks = torch.tensor(train_masks)\n",
    "\n",
    "    validation_inputs = torch.tensor(validation_inputs)\n",
    "    validation_labels = torch.tensor(validation_labels)\n",
    "    validation_masks = torch.tensor(validation_masks)\n",
    "\n",
    "    test_inputs = torch.tensor(test_inputs)\n",
    "    test_labels = torch.tensor(test_labels)\n",
    "    test_masks = torch.tensor(test_masks)\n",
    "\n",
    "    batch_size = 32\n",
    "\n",
    "    train_data = TensorDataset(train_inputs, train_masks, train_labels)\n",
    "    train_sampler = RandomSampler(train_data)\n",
    "    train_dataloader = DataLoader(train_data, sampler=train_sampler, batch_size=batch_size)\n",
    "\n",
    "    validation_data = TensorDataset(validation_inputs, validation_masks, validation_labels)\n",
    "    validation_sampler = SequentialSampler(validation_data)\n",
    "    validation_dataloader = DataLoader(validation_data, sampler=validation_sampler, batch_size=batch_size)\n",
    "\n",
    "    test_data = TensorDataset(test_inputs, test_masks, test_labels)\n",
    "    test_sampler = SequentialSampler(test_data)\n",
    "    test_dataloader = DataLoader(test_data, sampler=test_sampler, batch_size=batch_size)\n",
    "    \n",
    "    return train_dataloader, validation_dataloader, test_dataloader, model_architecture, device, test_labels\n",
    "    "
   ]
  },
  {
   "cell_type": "code",
   "execution_count": 15,
   "metadata": {},
   "outputs": [],
   "source": [
    "def define_input_with_test(seed, random_state, sentences , sentences_test, model_type, epochs):\n",
    "    \n",
    "    device = torch.device(\"cuda\" if torch.cuda.is_available() else \"cpu\")\n",
    "    if torch.cuda.is_available(): torch.cuda.manual_seed_all(seed)\n",
    "        \n",
    "    global tokenizer\n",
    "    global model_architecture\n",
    "        \n",
    "    sentences = [\"[CLS] \" + sentence + \" [SEP]\" for sentence in sentences]\n",
    "    sentences_test = [\"[CLS] \" + sentence + \" [SEP]\" for sentence in sentences_test]\n",
    "\n",
    "    \n",
    "    if model_type == 'Bert':\n",
    "        tokenizer = BertTokenizer.from_pretrained(\"bert-base-uncased\", do_lower_case=True)\n",
    "        model_architecture = BertModel.from_pretrained('bert-base-uncased').to(\"cuda\" if torch.cuda.is_available() else \"cpu\")\n",
    "\n",
    "    if model_type == 'Electra':\n",
    "        tokenizer = AutoTokenizer.from_pretrained(\"google/electra-base-discriminator\")\n",
    "        model_architecture = AutoModel.from_pretrained(\"google/electra-base-discriminator\").to(\"cuda\" if torch.cuda.is_available() else \"cpu\")\n",
    "                \n",
    "    if model_type == 'XLNet':\n",
    "        tokenizer = AutoTokenizer.from_pretrained(\"xlnet-base-cased\")\n",
    "        model_architecture = AutoModel.from_pretrained(\"xlnet-base-cased\").to(\"cuda\" if torch.cuda.is_available() else \"cpu\")\n",
    "\n",
    "    if model_type == 'Multilingua-Bert':\n",
    "        tokenizer = BertTokenizer.from_pretrained('bert-base-multilingual-uncased')\n",
    "        model_architecture = BertModel.from_pretrained(\"bert-base-multilingual-uncased\").to(\"cuda\" if torch.cuda.is_available() else \"cpu\")\n",
    "\n",
    "    if model_type == 'Ernie':\n",
    "        tokenizer = AutoTokenizer.from_pretrained(\"nghuyong/ernie-2.0-en\")\n",
    "        model_architecture = AutoModel.from_pretrained(\"nghuyong/ernie-2.0-en\").to(\"cuda\" if torch.cuda.is_available() else \"cpu\")\n",
    "\n",
    "    if model_type == 'Roberta':\n",
    "        tokenizer = AutoTokenizer.from_pretrained(\"roberta-base\")\n",
    "        model_architecture = AutoModel.from_pretrained(\"roberta-base\").to(\"cuda\" if torch.cuda.is_available() else \"cpu\")\n",
    "    \n",
    "    if model_type == 'distilbert':\n",
    "        tokenizer = AutoTokenizer.from_pretrained(\"distilbert-base-uncased\")\n",
    "        model_architecture = AutoModel.from_pretrained(\"distilbert-base-uncased\").to(\"cuda\" if torch.cuda.is_available() else \"cpu\")\n",
    "                \n",
    "        \n",
    "    \n",
    "    tokenized_texts = [tokenizer.tokenize(sent) for sent in sentences]\n",
    "    tokenized_texts_test = [tokenizer.tokenize(sent) for sent in sentences_test]\n",
    "\n",
    "    \n",
    "    MAX_LEN = 128\n",
    "    \n",
    "    input_ids = pad_sequences([tokenizer.convert_tokens_to_ids(txt) for txt in tokenized_texts],\n",
    "                          maxlen=MAX_LEN, dtype=\"long\", truncating=\"post\", padding=\"post\")\n",
    "    \n",
    "    input_ids_test = pad_sequences([tokenizer.convert_tokens_to_ids(txt) for txt in tokenized_texts_test],\n",
    "                          maxlen=MAX_LEN, dtype=\"long\", truncating=\"post\", padding=\"post\")\n",
    "    \n",
    "    attention_masks = []\n",
    "\n",
    "    for seq in input_ids:\n",
    "        seq_mask = [float(i>0) for i in seq]\n",
    "        attention_masks.append(seq_mask)\n",
    "        \n",
    "    attention_masks_test = []\n",
    "\n",
    "    for seq in input_ids_test:\n",
    "        seq_mask = [float(i>0) for i in seq]\n",
    "        attention_masks_test.append(seq_mask)\n",
    "        \n",
    "    X_inputs, _, X_labels, _ = train_test_split(input_ids, labels, random_state=random_state, test_size=0.1)\n",
    "    X_masks, _, _, _ = train_test_split(attention_masks, input_ids, random_state=random_state, test_size=0.1)\n",
    "\n",
    "    test_inputs,_, test_labels,_ = train_test_split(input_ids_test, labels_test, random_state=random_state, test_size=0.01)\n",
    "    test_masks, _, _, _ = train_test_split(attention_masks_test, input_ids_test, random_state=random_state, test_size=0.01)\n",
    "\n",
    "    \n",
    "    \n",
    "    train_inputs, validation_inputs, train_labels, validation_labels = train_test_split(X_inputs, X_labels, random_state=random_state, test_size=0.1)\n",
    "    train_masks, validation_masks, _, _ = train_test_split(X_masks, X_inputs, random_state=random_state, test_size=0.1)\n",
    "\n",
    "    train_inputs = torch.tensor(train_inputs)\n",
    "    train_labels = torch.tensor(train_labels)\n",
    "    train_masks = torch.tensor(train_masks)\n",
    "\n",
    "    validation_inputs = torch.tensor(validation_inputs)\n",
    "    validation_labels = torch.tensor(validation_labels)\n",
    "    validation_masks = torch.tensor(validation_masks)\n",
    "\n",
    "    test_inputs = torch.tensor(test_inputs)\n",
    "    test_labels = torch.tensor(test_labels)\n",
    "    test_masks = torch.tensor(test_masks)\n",
    "\n",
    "    batch_size = 32\n",
    "\n",
    "    train_data = TensorDataset(train_inputs, train_masks, train_labels)\n",
    "    train_sampler = RandomSampler(train_data)\n",
    "    train_dataloader = DataLoader(train_data, sampler=train_sampler, batch_size=batch_size)\n",
    "\n",
    "    validation_data = TensorDataset(validation_inputs, validation_masks, validation_labels)\n",
    "    validation_sampler = SequentialSampler(validation_data)\n",
    "    validation_dataloader = DataLoader(validation_data, sampler=validation_sampler, batch_size=batch_size)\n",
    "\n",
    "    test_data = TensorDataset(test_inputs, test_masks, test_labels)\n",
    "    test_sampler = SequentialSampler(test_data)\n",
    "    test_dataloader = DataLoader(test_data, sampler=test_sampler, batch_size=batch_size)\n",
    "    \n",
    "    return train_dataloader, validation_dataloader, test_dataloader, model_architecture, device, test_labels\n",
    "    "
   ]
  },
  {
   "cell_type": "code",
   "execution_count": 16,
   "metadata": {},
   "outputs": [],
   "source": [
    "class Model_Transformer(nn.Module):\n",
    "  \n",
    "    def __init__(self, input_dim_bert, output_dim, model_architecture):\n",
    "        super().__init__()\n",
    "        self.bert = model_architecture\n",
    "        \n",
    "        self.dropout = nn.Dropout(0.1)\n",
    "        self.sem_linear = nn.Linear(input_dim_bert, output_dim)\n",
    "        \n",
    "    def forward(self, x_sem, attention_mask):\n",
    "        with torch.no_grad():\n",
    "            pooled_output = self.bert(x_sem, attention_mask)[0][:, 0, :]  \n",
    "            pooled_output = self.dropout(pooled_output)\n",
    "        logits = self.sem_linear(pooled_output)\n",
    "\n",
    "        return logits"
   ]
  },
  {
   "cell_type": "code",
   "execution_count": 17,
   "metadata": {},
   "outputs": [],
   "source": [
    "def execute_Transformer(epochs, model_architecture, train_dataloader, validation_dataloader, test_dataloader, device, test_labels):\n",
    "    \n",
    "    Alone_model = Model_Transformer(768,2, model_architecture)\n",
    "    \n",
    "    criterion = nn.CrossEntropyLoss()\n",
    "    parameters = filter(lambda p: p.requires_grad, Alone_model.parameters())\n",
    "    optimizer = optim.AdamW(Alone_model.parameters(), lr=2e-5)\n",
    "\n",
    "    Alone_model.cuda()\n",
    "\n",
    "    train_loss_set = []\n",
    "    epoch = 0\n",
    "\n",
    "    for _ in trange(epochs, desc=\"Epoch\"):  \n",
    "        Alone_model.train()  \n",
    "        tr_loss = 0\n",
    "        nb_tr_examples, nb_tr_steps = 0, 0\n",
    "        for step, batch in enumerate(train_dataloader):\n",
    "            batch = tuple(t.cuda() for t in batch)\n",
    "            b_input_ids, b_input_mask, b_labels = batch\n",
    "            optimizer.zero_grad()\n",
    "            target_hat = Alone_model(b_input_ids, b_input_mask)\n",
    "\n",
    "            loss = criterion(target_hat, b_labels)\n",
    "            train_loss_set.append(loss.item())\n",
    "            loss.backward()\n",
    "            optimizer.step()\n",
    "            tr_loss += loss.item()\n",
    "            nb_tr_examples += b_input_ids.size(0)\n",
    "            nb_tr_steps += 1\n",
    "\n",
    "\n",
    "        Alone_model.eval()\n",
    "        eval_loss, eval_accuracy = 0, 0\n",
    "        nb_eval_steps, nb_eval_examples = 0, 0\n",
    "        for batch in validation_dataloader:\n",
    "            batch = tuple(t.cuda() for t in batch)\n",
    "            b_input_ids, b_input_mask, b_labels = batch\n",
    "            with torch.no_grad():\n",
    "\n",
    "              # Forward pass, calculate logit predictions\n",
    "\n",
    "              logits = Alone_model(b_input_ids, b_input_mask)\n",
    "\n",
    "            logits = logits.detach().cpu().numpy()\n",
    "            label_ids = b_labels.to('cpu').numpy()\n",
    "            tmp_eval_accuracy = flat_accuracy(logits, label_ids)    \n",
    "            eval_accuracy += tmp_eval_accuracy\n",
    "            nb_eval_steps += 1\n",
    "\n",
    "        epoch +=1\n",
    "\n",
    "    predictions = []\n",
    "    Alone_model.eval()\n",
    "\n",
    "    for batch in test_dataloader:\n",
    "        batch = tuple(t.to(device) for t in batch)\n",
    "        b_input_ids, b_input_mask, b_labels = batch\n",
    "\n",
    "        with torch.no_grad():\n",
    "            logits = Alone_model(b_input_ids, b_input_mask)\n",
    "        logits = logits.detach().cpu().numpy()\n",
    "\n",
    "        predictions.append(logits)\n",
    "\n",
    "        flat_predictions = [item for sublist in predictions for item in sublist]\n",
    "        flat_predictions = np.argmax(flat_predictions, axis=1).flatten()\n",
    "        \n",
    "    A = accuracy_score(test_labels.numpy(), flat_predictions)\n",
    "    B = f1_score(test_labels.numpy(), flat_predictions, average='macro')\n",
    "    C = f1_score(test_labels.numpy(), flat_predictions, average='weighted')\n",
    "    D = f1_score(test_labels.numpy(), flat_predictions, average=None)\n",
    "        \n",
    "    return A,B,C,D"
   ]
  },
  {
   "cell_type": "markdown",
   "metadata": {},
   "source": [
    "# Eseguiamo le funzioni"
   ]
  },
  {
   "cell_type": "markdown",
   "metadata": {},
   "source": [
    "**Definiamo le varibili che univoche per tutti i modelli**"
   ]
  },
  {
   "cell_type": "code",
   "execution_count": 18,
   "metadata": {},
   "outputs": [],
   "source": [
    "seed = [146, 123, 17, 54, 31]\n",
    "random_state = [1024, 3333, 1995, 2780, 3833]\n",
    "model_architecture_list = ['Bert','XLNet','Multilingua-Bert', 'Electra', 'Ernie','gpt']\n",
    "epochs = 10\n",
    "\n",
    "model_architecture = model_architecture_list[0]"
   ]
  },
  {
   "cell_type": "markdown",
   "metadata": {},
   "source": [
    "**Eseguiamo solo un Transformer**"
   ]
  },
  {
   "cell_type": "code",
   "execution_count": 19,
   "metadata": {},
   "outputs": [
    {
     "name": "stderr",
     "output_type": "stream",
     "text": [
      "Some weights of the model checkpoint at bert-base-uncased were not used when initializing BertModel: ['cls.predictions.transform.LayerNorm.bias', 'cls.predictions.decoder.weight', 'cls.seq_relationship.weight', 'cls.predictions.transform.dense.bias', 'cls.predictions.transform.LayerNorm.weight', 'cls.seq_relationship.bias', 'cls.predictions.transform.dense.weight', 'cls.predictions.bias']\n",
      "- This IS expected if you are initializing BertModel from the checkpoint of a model trained on another task or with another architecture (e.g. initializing a BertForSequenceClassification model from a BertForPreTraining model).\n",
      "- This IS NOT expected if you are initializing BertModel from the checkpoint of a model that you expect to be exactly identical (initializing a BertForSequenceClassification model from a BertForSequenceClassification model).\n",
      "Epoch: 100%|██████████| 10/10 [00:29<00:00,  2.93s/it]\n",
      "Epoch: 100%|██████████| 10/10 [00:29<00:00,  2.91s/it]\n",
      "Epoch: 100%|██████████| 10/10 [00:28<00:00,  2.89s/it]\n",
      "Epoch: 100%|██████████| 10/10 [00:29<00:00,  2.96s/it]\n",
      "Epoch: 100%|██████████| 10/10 [00:29<00:00,  2.96s/it]\n"
     ]
    }
   ],
   "source": [
    "Bert_accuracy_list = []\n",
    "Bert_macro_list = []\n",
    "Bert_weighted_list = []\n",
    "Bert_other_0 = []\n",
    "Bert_other_1 = []\n",
    "\n",
    "\n",
    "for i in range(0, 5):\n",
    "    train_dataloder, validation_dataloader, test_dataloder, model_architecture, device, test_labels = define_input_with_test(seed[i], random_state[i], sentences, sentences_test, model_architecture, epochs)\n",
    "    \n",
    "    #train_dataloder, validation_dataloader, test_dataloder, model_architecture, device, test_labels = define_input(seed[i], random_state[i], sentences, model_architecture, epochs)\n",
    "\n",
    "    \n",
    "    A,B,C,D = execute_Transformer(epochs, model_architecture, train_dataloder, validation_dataloader, test_dataloder, device, test_labels)\n",
    "    \n",
    "    Bert_accuracy_list.append(A*100)\n",
    "    Bert_macro_list.append(B)\n",
    "    Bert_weighted_list.append(C)\n",
    "    Bert_other_0.append(D[0])\n",
    "    Bert_other_1.append(D[1])"
   ]
  },
  {
   "cell_type": "markdown",
   "metadata": {},
   "source": [
    "# Calcoliamo la media e la variazione standard"
   ]
  },
  {
   "cell_type": "code",
   "execution_count": 20,
   "metadata": {},
   "outputs": [
    {
     "name": "stdout",
     "output_type": "stream",
     "text": [
      "*********** F1 - SCORE CLASS 0\n",
      "0.61\n",
      "0.04\n",
      "*********** F1 - SCORE CLASS 1\n",
      "0.13\n",
      "0.04\n",
      "*********** ACCURACY\n",
      "45.97\n",
      "3.8\n",
      "*********** MACRO\n",
      "0.37\n",
      "0.02\n",
      "*********** WEIGHTED\n",
      "0.36\n",
      "0.02\n"
     ]
    }
   ],
   "source": [
    "print('*********** F1 - SCORE CLASS 0')\n",
    "print(round(calculate_mean(Bert_other_0), 2))\n",
    "print(round(calculate_standard_deviation(Bert_other_0), 2))\n",
    "\n",
    "print('*********** F1 - SCORE CLASS 1')\n",
    "print(round(calculate_mean(Bert_other_1), 2))\n",
    "print(round(calculate_standard_deviation(Bert_other_1), 2))\n",
    "\n",
    "print('*********** ACCURACY')\n",
    "print(round(calculate_mean(Bert_accuracy_list),2))\n",
    "print(round(calculate_standard_deviation(Bert_accuracy_list),2))\n",
    "\n",
    "print('*********** MACRO')\n",
    "print(round(calculate_mean(Bert_macro_list),2))\n",
    "print(round(calculate_standard_deviation(Bert_macro_list),2))\n",
    "\n",
    "print('*********** WEIGHTED')\n",
    "print(round(calculate_mean(Bert_weighted_list), 2))\n",
    "print(round(calculate_standard_deviation(Bert_weighted_list), 2))"
   ]
  },
  {
   "cell_type": "code",
   "execution_count": null,
   "metadata": {},
   "outputs": [],
   "source": []
  },
  {
   "cell_type": "code",
   "execution_count": null,
   "metadata": {},
   "outputs": [],
   "source": []
  },
  {
   "cell_type": "code",
   "execution_count": null,
   "metadata": {},
   "outputs": [],
   "source": []
  },
  {
   "cell_type": "markdown",
   "metadata": {},
   "source": [
    "# Verifichiamo se i risultati ottenuti sono statisticamente significativi"
   ]
  },
  {
   "cell_type": "code",
   "execution_count": null,
   "metadata": {},
   "outputs": [],
   "source": [
    "def p_test(p):\n",
    "    alpha = 0.05\n",
    "    if p > alpha:\n",
    "        print('Same distribution (fail to reject H0)')\n",
    "    else:\n",
    "        print('Different distribution (reject H0)')"
   ]
  },
  {
   "cell_type": "markdown",
   "metadata": {},
   "source": [
    "**Potter vs Kermit**"
   ]
  },
  {
   "cell_type": "code",
   "execution_count": null,
   "metadata": {},
   "outputs": [],
   "source": [
    "a_w, a_p = wilcoxon(Potter_accuracy_list, Kermit_accuracy_list)\n",
    "m_w, m_p = wilcoxon(Potter_macro_list, Kermit_macro_list)\n",
    "w_w, w_p = wilcoxon(Potter_weighted_list, Kermit_weighted_list)"
   ]
  },
  {
   "cell_type": "code",
   "execution_count": null,
   "metadata": {},
   "outputs": [],
   "source": [
    "p_test(a_p)\n",
    "p_test(m_p)\n",
    "p_test(w_p)"
   ]
  },
  {
   "cell_type": "markdown",
   "metadata": {},
   "source": [
    "**Potter vs Bert**"
   ]
  },
  {
   "cell_type": "code",
   "execution_count": null,
   "metadata": {},
   "outputs": [],
   "source": [
    "a_w, a_p = wilcoxon(Potter_accuracy_list, Bert_accuracy_list)\n",
    "m_w, m_p = wilcoxon(Potter_macro_list, Bert_macro_list)\n",
    "w_w, w_p = wilcoxon(Potter_weighted_list, Bert_weighted_list)"
   ]
  },
  {
   "cell_type": "code",
   "execution_count": null,
   "metadata": {},
   "outputs": [],
   "source": [
    "p_test(a_p)\n",
    "p_test(m_p)\n",
    "p_test(w_p)"
   ]
  },
  {
   "cell_type": "markdown",
   "metadata": {},
   "source": [
    "**Kermit vs Bert**"
   ]
  },
  {
   "cell_type": "code",
   "execution_count": null,
   "metadata": {},
   "outputs": [],
   "source": [
    "a_w, a_p = wilcoxon(Kermit_accuracy_list, Bert_accuracy_list)\n",
    "m_w, m_p = wilcoxon(Kermit_macro_list, Bert_macro_list)\n",
    "w_w, w_p = wilcoxon(Kermit_weighted_list, Bert_weighted_list)"
   ]
  },
  {
   "cell_type": "code",
   "execution_count": null,
   "metadata": {},
   "outputs": [],
   "source": [
    "p_test(a_p)\n",
    "p_test(m_p)\n",
    "p_test(w_p)"
   ]
  },
  {
   "cell_type": "code",
   "execution_count": null,
   "metadata": {
    "scrolled": true
   },
   "outputs": [],
   "source": []
  }
 ],
 "metadata": {
  "kernelspec": {
   "display_name": "Python 3",
   "language": "python",
   "name": "python3"
  },
  "language_info": {
   "codemirror_mode": {
    "name": "ipython",
    "version": 3
   },
   "file_extension": ".py",
   "mimetype": "text/x-python",
   "name": "python",
   "nbconvert_exporter": "python",
   "pygments_lexer": "ipython3",
   "version": "3.6.9"
  }
 },
 "nbformat": 4,
 "nbformat_minor": 4
}
