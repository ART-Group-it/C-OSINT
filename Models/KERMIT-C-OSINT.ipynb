{
 "cells": [
  {
   "cell_type": "code",
   "execution_count": 1,
   "metadata": {},
   "outputs": [],
   "source": [
    "import transformers\n",
    "from keras.preprocessing.sequence import pad_sequences\n",
    "from sklearn.model_selection import train_test_split\n",
    "from transformers import AutoTokenizer, AutoModel, BertTokenizer, BertModel"
   ]
  },
  {
   "cell_type": "code",
   "execution_count": 2,
   "metadata": {},
   "outputs": [],
   "source": [
    "from torch import optim\n",
    "from torch import nn\n",
    "import torch.nn.functional as F\n",
    "import torch\n",
    "from torch.utils.data import TensorDataset, DataLoader, RandomSampler, SequentialSampler"
   ]
  },
  {
   "cell_type": "code",
   "execution_count": 3,
   "metadata": {},
   "outputs": [],
   "source": [
    "import pandas as pd\n",
    "import re\n",
    "import matplotlib.pyplot as plt\n",
    "from tqdm import tqdm, trange\n",
    "import numpy as np\n",
    "import pickle"
   ]
  },
  {
   "cell_type": "code",
   "execution_count": 4,
   "metadata": {},
   "outputs": [],
   "source": [
    "SEED = 123456789\n",
    "RANDOM_STATE = 1"
   ]
  },
  {
   "cell_type": "code",
   "execution_count": 5,
   "metadata": {},
   "outputs": [],
   "source": [
    "device = torch.device(\"cuda\" if torch.cuda.is_available() else \"cpu\")"
   ]
  },
  {
   "cell_type": "code",
   "execution_count": 6,
   "metadata": {},
   "outputs": [],
   "source": [
    "if torch.cuda.is_available(): torch.cuda.manual_seed_all(SEED)"
   ]
  },
  {
   "cell_type": "code",
   "execution_count": 7,
   "metadata": {},
   "outputs": [],
   "source": [
    "#df = pd.read_csv(\"./simple_dataset/urldata_ita.csv\")\n",
    "df = pd.read_csv(\"data.csv\")\n",
    "\n",
    "\n",
    "df.head()\n",
    "\n",
    "sentences = df.Domain.values\n",
    "\n",
    "\n",
    "target_clean_train = []\n",
    "\n",
    "for x in df.Label:\n",
    "    if x == 0:\n",
    "        target_clean_train.append(0)\n",
    "    if x == 1:\n",
    "        target_clean_train.append(1)\n",
    "        \n",
    "labels = np.array(target_clean_train)\n",
    "\n",
    "def unplickle_trees(path_tree_file):\n",
    "    print('read DTKs:', path_tree_file)\n",
    "    dt_trees = []\n",
    "    with open(path_tree_file, 'rb') as fr:\n",
    "        try:\n",
    "            while True:\n",
    "                dt_trees.append(pickle.load(fr))\n",
    "        except EOFError:\n",
    "            pass\n",
    "    return [torch.FloatTensor(i) for i in dt_trees]\n",
    "\n",
    "trees = unplickle_trees('trees.pkl')"
   ]
  },
  {
   "cell_type": "code",
   "execution_count": 9,
   "metadata": {},
   "outputs": [
    {
     "data": {
      "text/plain": [
       "(torch.Size([2351, 4000]), torch.Size([262, 4000]), torch.Size([1121, 4000]))"
      ]
     },
     "execution_count": 9,
     "metadata": {},
     "output_type": "execute_result"
    }
   ],
   "source": [
    "torch.manual_seed(SEED)\n",
    "X_train, X_test, target_train, target_test = train_test_split(trees, labels, random_state=RANDOM_STATE, test_size=0.3)\n",
    "X_train, X_validation, target_train, target_validation = train_test_split(X_train, target_train, random_state=RANDOM_STATE, test_size=0.1)\n",
    "\n",
    "X_train = torch.stack(X_train)\n",
    "target_train = torch.tensor(target_train)\n",
    "X_validation = torch.stack(X_validation)\n",
    "target_validation = torch.tensor(target_validation)\n",
    "X_test = torch.stack(X_test)\n",
    "target_test = torch.tensor(target_test)\n",
    "\n",
    "X_train.shape, X_validation.shape, X_test.shape"
   ]
  },
  {
   "cell_type": "code",
   "execution_count": 10,
   "metadata": {},
   "outputs": [],
   "source": [
    "batch_size = 32\n",
    "\n",
    "train_data = TensorDataset(X_train, target_train)\n",
    "train_sampler = RandomSampler(train_data)\n",
    "train_dataloader = DataLoader(train_data, sampler=train_sampler, batch_size=batch_size)\n",
    "\n",
    "validation_data = TensorDataset(X_validation, target_validation)\n",
    "validation_sampler = SequentialSampler(validation_data)\n",
    "validation_dataloader = DataLoader(validation_data, sampler=validation_sampler, batch_size=batch_size)\n",
    "\n",
    "test_data = TensorDataset(X_test, target_test)\n",
    "test_sampler = SequentialSampler(test_data)\n",
    "test_dataloader = DataLoader(test_data, sampler=test_sampler, batch_size=batch_size)"
   ]
  },
  {
   "cell_type": "code",
   "execution_count": 11,
   "metadata": {},
   "outputs": [],
   "source": [
    "class KERMIT(nn.Module):\n",
    "    def __init__(self, input_dim_dt, output_dim):\n",
    "        super().__init__()\n",
    "        self.fc1 = torch.nn.Linear(input_dim_dt, 8000)\n",
    "        self.fc2 = torch.nn.Linear(8000, 4000)\n",
    "        self.fc3 = torch.nn.Linear(4000, 2000)\n",
    "        self.synth_sem_linear = nn.Linear(2000, output_dim)\n",
    "\n",
    "\n",
    "    def forward(self, x_synth):        \n",
    "        x_synth = F.dropout(F.relu(self.fc1(x_synth)), p=0.1)\n",
    "        x_synth = F.dropout(F.relu(self.fc2(x_synth)), p=0.1)\n",
    "        x_synth = F.dropout(F.relu(self.fc3(x_synth)), p=0.1)\n",
    "        x_tot = self.synth_sem_linear(x_synth)\n",
    "        return x_tot   \n",
    "\n",
    "class KERMIT_2(nn.Module):\n",
    "    def __init__(self, input_dim_dt, output_dim):\n",
    "        super().__init__()\n",
    "        self.fc1 = torch.nn.Linear(input_dim_dt, 4000)\n",
    "        self.fc2 = torch.nn.Linear(4000, 4000)\n",
    "        self.fc3 = torch.nn.Linear(4000, 2000)\n",
    "        self.synth_sem_linear = nn.Linear(2000, output_dim)\n",
    "\n",
    "\n",
    "    def forward(self, x_synth):        \n",
    "        x_synth = F.dropout(F.relu(self.fc1(x_synth)), p=0.1)\n",
    "        x_synth = F.dropout(F.relu(self.fc2(x_synth)), p=0.1)\n",
    "        x_synth = F.dropout(F.relu(self.fc3(x_synth)), p=0.1)\n",
    "        x_tot = self.synth_sem_linear(x_synth)\n",
    "        return x_tot   \n",
    "\n",
    "class BertForSequenceClassification(nn.Module):\n",
    "  \n",
    "    def __init__(self, input_dim_bert, input_dim_dt, output_dim):\n",
    "        super().__init__()\n",
    "        self.bert = AutoModel.from_pretrained(\"bert-base-uncased\").to(\"cuda\" if torch.cuda.is_available() else \"cpu\")\n",
    "        \n",
    "        self.dropout = nn.Dropout(0.1)\n",
    "        self.synth_sem_linear = nn.Linear(input_dim_bert, output_dim)\n",
    "        \n",
    "    def forward(self, x_sem, attention_mask, x_synth):\n",
    "        with torch.no_grad():\n",
    "            x_sem = self.bert(x_sem)[0][:, 0, :]\n",
    "        \n",
    "        x_sem = self.dropout(x_sem)        \n",
    "        x_tot = self.synth_sem_linear(x_sem)\n",
    "        \n",
    "        return x_tot\n",
    "        \n",
    "    def get_activation(self, x_sem, x_synth):\n",
    "        with torch.no_grad():\n",
    "            x_sem = self.bert(x_sem)[0][:, 0, :]\n",
    "            x_tot = torch.cat((x_sem, x_synth), 1)\n",
    "            x_tot = self.synth_sem_linear(x_tot)\n",
    "        out = F.log_softmax(x_tot, dim=1)\n",
    "        return out"
   ]
  },
  {
   "cell_type": "code",
   "execution_count": 12,
   "metadata": {},
   "outputs": [
    {
     "name": "stdout",
     "output_type": "stream",
     "text": [
      "[1187 1164] [138 124] [542 579]\n"
     ]
    }
   ],
   "source": [
    "unique_train, counts_train = np.unique(target_train, return_counts = True)\n",
    "unique_validation, counts_validation = np.unique(target_validation, return_counts = True)\n",
    "unique_test, counts_test = np.unique(target_test, return_counts = True)\n",
    "print(counts_train, counts_validation, counts_test)"
   ]
  },
  {
   "cell_type": "code",
   "execution_count": 13,
   "metadata": {},
   "outputs": [],
   "source": [
    "model = KERMIT_2(4000,2)\n",
    "criterion = nn.CrossEntropyLoss()\n",
    "parameters = filter(lambda p: p.requires_grad, model.parameters())\n",
    "optimizer = optim.AdamW(model.parameters(), lr=2e-5)"
   ]
  },
  {
   "cell_type": "code",
   "execution_count": 14,
   "metadata": {},
   "outputs": [
    {
     "data": {
      "text/plain": [
       "DTFF_Dario(\n",
       "  (fc1): Linear(in_features=4000, out_features=4000, bias=True)\n",
       "  (fc2): Linear(in_features=4000, out_features=4000, bias=True)\n",
       "  (fc3): Linear(in_features=4000, out_features=2000, bias=True)\n",
       "  (synth_sem_linear): Linear(in_features=2000, out_features=2, bias=True)\n",
       ")"
      ]
     },
     "execution_count": 14,
     "metadata": {},
     "output_type": "execute_result"
    }
   ],
   "source": [
    "model.cuda()"
   ]
  },
  {
   "cell_type": "code",
   "execution_count": 15,
   "metadata": {},
   "outputs": [],
   "source": [
    "def flat_accuracy(preds, labels):\n",
    "    pred_flat = np.argmax(preds, axis=1).flatten()\n",
    "    labels_flat = labels.flatten()\n",
    "    return np.sum(pred_flat == labels_flat) / len(labels_flat)"
   ]
  },
  {
   "cell_type": "code",
   "execution_count": null,
   "metadata": {},
   "outputs": [
    {
     "name": "stderr",
     "output_type": "stream",
     "text": [
      "Epoch:  10%|█         | 1/10 [00:57<08:33, 57.05s/it]"
     ]
    },
    {
     "name": "stdout",
     "output_type": "stream",
     "text": [
      "Epochs: 1\n",
      "Train loss: 0.3230704594453075\n",
      "Validation Accuracy: 0.9007633587786259\n"
     ]
    },
    {
     "name": "stderr",
     "output_type": "stream",
     "text": [
      "Epoch:  20%|██        | 2/10 [01:53<07:34, 56.85s/it]"
     ]
    },
    {
     "name": "stdout",
     "output_type": "stream",
     "text": [
      "Epochs: 2\n",
      "Train loss: 0.24372177953928142\n",
      "Validation Accuracy: 0.8969465648854962\n"
     ]
    },
    {
     "name": "stderr",
     "output_type": "stream",
     "text": [
      "Epoch:  30%|███       | 3/10 [02:50<06:38, 56.99s/it]"
     ]
    },
    {
     "name": "stdout",
     "output_type": "stream",
     "text": [
      "Epochs: 3\n",
      "Train loss: 0.21031774584397112\n",
      "Validation Accuracy: 0.9045801526717557\n"
     ]
    }
   ],
   "source": [
    "\n",
    "train_loss_set = []\n",
    "\n",
    "epochs = 10\n",
    "epoch = 0\n",
    "\n",
    "for _ in trange(epochs, desc=\"Epoch\"):  \n",
    "    model.train()  \n",
    "\n",
    "    tr_loss = 0\n",
    "    nb_tr_examples, nb_tr_steps = 0, 0\n",
    "\n",
    "    for step, batch in enumerate(train_dataloader):\n",
    "\n",
    "        batch = tuple(t.cuda() for t in batch)\n",
    "        b_input_tree, b_labels = batch\n",
    "        optimizer.zero_grad()\n",
    "        # Forward pass\n",
    "        target_hat = model(b_input_tree)\n",
    "        \n",
    "        loss = criterion(target_hat, b_labels)\n",
    "        train_loss_set.append(loss.item())\n",
    "        \n",
    "        # Backward pass\n",
    "        loss.backward()\n",
    "        optimizer.step()\n",
    "        tr_loss += loss.item()\n",
    "        nb_tr_steps += 1\n",
    "\n",
    "    ## VALIDATION\n",
    "\n",
    "    model.eval()\n",
    "    eval_loss, eval_accuracy = 0, 0\n",
    "    nb_eval_steps, nb_eval_examples = 0, 0\n",
    "    for batch in validation_dataloader:\n",
    "        batch = tuple(t.cuda() for t in batch)\n",
    "        b_input_tree, b_labels = batch\n",
    "        with torch.no_grad():\n",
    "            logits = model(b_input_tree)\n",
    "            \n",
    "        # Move logits and labels to CPU\n",
    "        logits = logits.detach().cpu().numpy()\n",
    "        label_ids = b_labels.to('cpu').numpy()\n",
    "        tmp_eval_accuracy = flat_accuracy(logits, label_ids)    \n",
    "        eval_accuracy += tmp_eval_accuracy\n",
    "        nb_eval_steps += 1\n",
    "        \n",
    "    epoch +=1\n",
    "    \n",
    "    print(\"Epochs: {}\".format(epoch))\n",
    "    print(\"Train loss: {}\".format(tr_loss/nb_tr_steps))\n",
    "    print(\"Validation Accuracy: {}\".format(eval_accuracy/nb_eval_steps))"
   ]
  },
  {
   "cell_type": "code",
   "execution_count": null,
   "metadata": {},
   "outputs": [],
   "source": [
    "predictions = []\n",
    "model.eval()\n",
    "\n",
    "for batch in test_dataloader:\n",
    "    batch = tuple(t.to(device) for t in batch)\n",
    "    b_input_tree, b_labels = batch\n",
    "\n",
    "    with torch.no_grad():\n",
    "        logits = model(b_input_tree)\n",
    "    logits = logits.detach().cpu().numpy()\n",
    "\n",
    "    predictions.append(logits)\n",
    "    \n",
    "    flat_predictions = [item for sublist in predictions for item in sublist]\n",
    "    flat_predictions = np.argmax(flat_predictions, axis=1).flatten()"
   ]
  },
  {
   "cell_type": "code",
   "execution_count": null,
   "metadata": {},
   "outputs": [],
   "source": [
    "from sklearn.metrics import confusion_matrix\n",
    "import seaborn as sn\n",
    "from sklearn import metrics"
   ]
  },
  {
   "cell_type": "code",
   "execution_count": null,
   "metadata": {},
   "outputs": [],
   "source": [
    "print(metrics.classification_report(target_test.numpy(), flat_predictions,digits=4))"
   ]
  },
  {
   "cell_type": "code",
   "execution_count": null,
   "metadata": {},
   "outputs": [],
   "source": []
  },
  {
   "cell_type": "code",
   "execution_count": null,
   "metadata": {},
   "outputs": [],
   "source": []
  },
  {
   "cell_type": "code",
   "execution_count": null,
   "metadata": {},
   "outputs": [],
   "source": []
  }
 ],
 "metadata": {
  "kernelspec": {
   "display_name": "Python 3",
   "language": "python",
   "name": "python3"
  },
  "language_info": {
   "codemirror_mode": {
    "name": "ipython",
    "version": 3
   },
   "file_extension": ".py",
   "mimetype": "text/x-python",
   "name": "python",
   "nbconvert_exporter": "python",
   "pygments_lexer": "ipython3",
   "version": "3.6.9"
  }
 },
 "nbformat": 4,
 "nbformat_minor": 4
}
